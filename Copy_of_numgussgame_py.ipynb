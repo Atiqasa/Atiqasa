{
  "nbformat": 4,
  "nbformat_minor": 0,
  "metadata": {
    "colab": {
      "provenance": [],
      "authorship_tag": "ABX9TyOW/2cNYIOxeVi9cuLW/Tw6",
      "include_colab_link": true
    },
    "kernelspec": {
      "name": "python3",
      "display_name": "Python 3"
    },
    "language_info": {
      "name": "python"
    }
  },
  "cells": [
    {
      "cell_type": "markdown",
      "metadata": {
        "id": "view-in-github",
        "colab_type": "text"
      },
      "source": [
        "<a href=\"https://colab.research.google.com/github/Atiqasa/Atiqasa/blob/main/Copy_of_numgussgame_py.ipynb\" target=\"_parent\"><img src=\"https://colab.research.google.com/assets/colab-badge.svg\" alt=\"Open In Colab\"/></a>"
      ]
    },
    {
      "cell_type": "code",
      "source": [
        "import random\n",
        "Cnumber=random.randrange(1,20)\n",
        "userinput=int(input(\"Enter your number:--\"))\n",
        "if Cnumber>userinput:\n",
        "   print(\"computer number\",Cnumber)\n",
        "   print(\"your number is too low\")\n",
        "elif Cnumber<userinput:\n",
        "   print(\"computer number\",Cnumber)\n",
        "   print(\"your number is too high\")\n",
        "else:\n",
        "   print(\"computer number\",Cnumber)\n",
        "   print(\"you win\")\n",
        "\n"
      ],
      "metadata": {
        "colab": {
          "base_uri": "https://localhost:8080/"
        },
        "id": "OhGxpyg4L3kb",
        "outputId": "33e7f221-22e7-41b1-a489-739fb51664ce"
      },
      "execution_count": null,
      "outputs": [
        {
          "output_type": "stream",
          "name": "stdout",
          "text": [
            "Enter your number:--16\n",
            "computer number 9\n",
            "your number is too high\n"
          ]
        }
      ]
    }
  ]
}