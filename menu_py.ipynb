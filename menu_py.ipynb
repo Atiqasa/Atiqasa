{
  "nbformat": 4,
  "nbformat_minor": 0,
  "metadata": {
    "colab": {
      "provenance": [],
      "authorship_tag": "ABX9TyM8NcxIiudvi+vhdLCtVCC4",
      "include_colab_link": true
    },
    "kernelspec": {
      "name": "python3",
      "display_name": "Python 3"
    },
    "language_info": {
      "name": "python"
    }
  },
  "cells": [
    {
      "cell_type": "markdown",
      "metadata": {
        "id": "view-in-github",
        "colab_type": "text"
      },
      "source": [
        "<a href=\"https://colab.research.google.com/github/Atiqasa/Atiqasa/blob/main/menu_py.ipynb\" target=\"_parent\"><img src=\"https://colab.research.google.com/assets/colab-badge.svg\" alt=\"Open In Colab\"/></a>"
      ]
    },
    {
      "cell_type": "code",
      "source": [
        "menu = int(input('''\n",
        "1 sandwich\n",
        "2 coke\n",
        "3 biryani\n",
        "4 hamburger\n",
        "5 samosa\n",
        "6 spaghatti\n",
        "7 pasta\n",
        "'''))\n",
        "\n",
        "\n",
        "user_input=int(input(\"enter a number:--\"))\n",
        "if user_input==\"1\":\n",
        "    print(\"sandwich\")\n",
        "elif user_input==\"2\":\n",
        "    print(\"coke\")\n",
        "elif user_input==3:\n",
        "    print(\"biryani\")\n",
        "elif user_input==4:\n",
        "    print(\"hamburger\")\n",
        "elif user_input==5:\n",
        "    print(\"samosa\")\n",
        "elif user_input==6:\n",
        "    print(\"spaghatti\")\n",
        "elif user_input==7:\n",
        "    print(\"pasta\")\n",
        "else:\n",
        "    print(\"we dont have your requirment\")"
      ],
      "metadata": {
        "colab": {
          "base_uri": "https://localhost:8080/"
        },
        "id": "NfAM9yQMaKYs",
        "outputId": "bfe21004-8e8b-47c6-f7fb-35d204e5cc28"
      },
      "execution_count": 26,
      "outputs": [
        {
          "output_type": "stream",
          "name": "stdout",
          "text": [
            "\n",
            "1 sandwich\n",
            "2 coke\n",
            "3 biryani\n",
            "4 hamburger\n",
            "5 samosa\n",
            "6 spaghatti\n",
            "7 pasta\n",
            "7\n",
            "enter a number:--7\n",
            "pasta\n"
          ]
        }
      ]
    }
  ]
}