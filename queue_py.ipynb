{
  "nbformat": 4,
  "nbformat_minor": 0,
  "metadata": {
    "colab": {
      "provenance": [],
      "authorship_tag": "ABX9TyOr1M0NLpYVOoUnrDodSKLg",
      "include_colab_link": true
    },
    "kernelspec": {
      "name": "python3",
      "display_name": "Python 3"
    },
    "language_info": {
      "name": "python"
    }
  },
  "cells": [
    {
      "cell_type": "markdown",
      "metadata": {
        "id": "view-in-github",
        "colab_type": "text"
      },
      "source": [
        "<a href=\"https://colab.research.google.com/github/Atiqasa/Atiqasa/blob/main/queue_py.ipynb\" target=\"_parent\"><img src=\"https://colab.research.google.com/assets/colab-badge.svg\" alt=\"Open In Colab\"/></a>"
      ]
    },
    {
      "cell_type": "code",
      "source": [
        "l=[]\n",
        "while True:\n",
        "   c=int(input('''\n",
        "    1 push element\n",
        "    2 pop first element\n",
        "    3 front element\n",
        "    4 last element\n",
        "    5 display queue\n",
        "    6 exit\n",
        "    '''))\n",
        "   if c==1:\n",
        "        n=int(input(\"enter the value:-\"))\n",
        "        l.append(n)\n",
        "        print(l)\n",
        "   if c==2:\n",
        "        if len(l)==0:\n",
        "            print(\"empty queue\")\n",
        "        else:\n",
        "         del l[0]\n",
        "         print(l)\n",
        "   if c==3:\n",
        "        if len(l)==0:\n",
        "          print(\"empty queue\")\n",
        "        else:\n",
        "           print(\"first queue value:-\",l[0])\n",
        "   if c==4:\n",
        "        if len(l)==0:\n",
        "          print(\"empty queue\")\n",
        "        else:\n",
        "           print(\"last queue value:-\",l[0])\n",
        "   if c==5:\n",
        "        print(\"display queue\",l)\n",
        "   if c==6:\n",
        "        break\n",
        "   else:\n",
        "        print(\"invalid choice\")\n",
        "\n",
        "\n",
        "\n",
        "\n"
      ],
      "metadata": {
        "colab": {
          "base_uri": "https://localhost:8080/"
        },
        "id": "UcJeZrVuB8PV",
        "outputId": "ca2a5794-3cbe-4364-c10b-969b8fe01e69"
      },
      "execution_count": null,
      "outputs": [
        {
          "output_type": "stream",
          "name": "stdout",
          "text": [
            "\n",
            "    1 push element\n",
            "    2 pop first element\n",
            "    3 front element\n",
            "    4 last element\n",
            "    5 display queue\n",
            "    6 exit\n",
            "    1\n",
            "enter the value:-43\n",
            "[43]\n",
            "invalid choice\n",
            "\n",
            "    1 push element\n",
            "    2 pop first element\n",
            "    3 front element\n",
            "    4 last element\n",
            "    5 display queue\n",
            "    6 exit\n",
            "    1\n",
            "enter the value:-90\n",
            "[43, 90]\n",
            "invalid choice\n",
            "\n",
            "    1 push element\n",
            "    2 pop first element\n",
            "    3 front element\n",
            "    4 last element\n",
            "    5 display queue\n",
            "    6 exit\n",
            "    5\n",
            "display queue [43, 90]\n",
            "invalid choice\n",
            "\n",
            "    1 push element\n",
            "    2 pop first element\n",
            "    3 front element\n",
            "    4 last element\n",
            "    5 display queue\n",
            "    6 exit\n",
            "    4\n",
            "last queue value:- 43\n",
            "invalid choice\n",
            "\n",
            "    1 push element\n",
            "    2 pop first element\n",
            "    3 front element\n",
            "    4 last element\n",
            "    5 display queue\n",
            "    6 exit\n",
            "    2\n",
            "[90]\n",
            "invalid choice\n",
            "\n",
            "    1 push element\n",
            "    2 pop first element\n",
            "    3 front element\n",
            "    4 last element\n",
            "    5 display queue\n",
            "    6 exit\n",
            "    3\n",
            "first queue value:- 90\n",
            "invalid choice\n"
          ]
        }
      ]
    }
  ]
}