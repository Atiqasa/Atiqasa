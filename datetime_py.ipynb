{
  "nbformat": 4,
  "nbformat_minor": 0,
  "metadata": {
    "colab": {
      "provenance": [],
      "authorship_tag": "ABX9TyOU+aFIrDpJ67Cn7FICWY2S",
      "include_colab_link": true
    },
    "kernelspec": {
      "name": "python3",
      "display_name": "Python 3"
    },
    "language_info": {
      "name": "python"
    }
  },
  "cells": [
    {
      "cell_type": "markdown",
      "metadata": {
        "id": "view-in-github",
        "colab_type": "text"
      },
      "source": [
        "<a href=\"https://colab.research.google.com/github/Atiqasa/Atiqasa/blob/main/datetime_py.ipynb\" target=\"_parent\"><img src=\"https://colab.research.google.com/assets/colab-badge.svg\" alt=\"Open In Colab\"/></a>"
      ]
    },
    {
      "cell_type": "code",
      "source": [
        "import random\n",
        "n=random.randint(1,5)\n",
        "print(n)\n",
        "\n",
        "n1=random.randrange(1,5)\n",
        "print(n1)\n",
        "\n",
        "l=[1,2,3,4,5]\n",
        "f=random.choice(l)\n",
        "print(f)\n",
        "\n",
        "r=random.shuffle(l)\n",
        "print(l)\n",
        "\n",
        "u=random.uniform(1,4)\n",
        "print(u)"
      ],
      "metadata": {
        "colab": {
          "base_uri": "https://localhost:8080/"
        },
        "id": "KxLAfdC5FLNz",
        "outputId": "0f8091a8-b442-4a65-f5e6-324c0077a26a"
      },
      "execution_count": 49,
      "outputs": [
        {
          "output_type": "stream",
          "name": "stdout",
          "text": [
            "5\n",
            "2\n",
            "4\n",
            "[5, 2, 4, 3, 1]\n",
            "1.5620903954402112\n"
          ]
        }
      ]
    }
  ]
}