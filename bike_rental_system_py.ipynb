{
  "nbformat": 4,
  "nbformat_minor": 0,
  "metadata": {
    "colab": {
      "provenance": [],
      "authorship_tag": "ABX9TyOJE7hmaTDWft66PdNpwuBG",
      "include_colab_link": true
    },
    "kernelspec": {
      "name": "python3",
      "display_name": "Python 3"
    },
    "language_info": {
      "name": "python"
    }
  },
  "cells": [
    {
      "cell_type": "markdown",
      "metadata": {
        "id": "view-in-github",
        "colab_type": "text"
      },
      "source": [
        "<a href=\"https://colab.research.google.com/github/Atiqasa/Atiqasa/blob/main/bike_rental_system_py.ipynb\" target=\"_parent\"><img src=\"https://colab.research.google.com/assets/colab-badge.svg\" alt=\"Open In Colab\"/></a>"
      ]
    },
    {
      "cell_type": "code",
      "source": [
        "class bikeShop:\n",
        "\n",
        "     def __init__(self,stock):\n",
        "         self.stock = stock\n",
        "     def displayBike(self):\n",
        "         print(\"total bikes\",self.stock)\n",
        "     def rentForBike(self,q):\n",
        "\n",
        "           if q<=0:\n",
        "            print(\"Enter the positive number or greater than zero\")\n",
        "           if q>=self.stock:\n",
        "            print(\"Enter the value(less than stock)\")\n",
        "\n",
        "           else:\n",
        "            print(\"Total price\",q*100)\n",
        "            print(\"Total Bikes\",self.stock)\n",
        "\n",
        "\n",
        "while True:\n",
        "   obj=bikeShop(100)\n",
        "   uc=int(input('''\n",
        "   1 Display stock\n",
        "   2 Bike for rent\n",
        "   3 Exit\n",
        "   '''))\n",
        "   if uc==1:\n",
        "     obj.displayBike()\n",
        "   elif uc==2:\n",
        "     n=int(input(\"Enter the quentity\"))\n",
        "     obj.rentForBike(n)\n",
        "   elif uc==3:\n",
        "     break\n",
        "   else:\n",
        "     print(\"Enter the correct option\")\n",
        ""
      ],
      "metadata": {
        "colab": {
          "base_uri": "https://localhost:8080/"
        },
        "id": "MReNYlsfYkKH",
        "outputId": "1169cefa-9522-485b-f809-892471d4d5b6"
      },
      "execution_count": 5,
      "outputs": [
        {
          "name": "stdout",
          "output_type": "stream",
          "text": [
            "\n",
            "   1 Display stock\n",
            "   2 Bike for rent\n",
            "   3 Exit\n",
            "   1\n",
            "total bikes 100\n",
            "\n",
            "   1 Display stock\n",
            "   2 Bike for rent\n",
            "   3 Exit\n",
            "   2\n",
            "Enter the quentity50\n",
            "Total price 5000\n",
            "Total Bikes 100\n",
            "\n",
            "   1 Display stock\n",
            "   2 Bike for rent\n",
            "   3 Exit\n",
            "   1\n",
            "total bikes 100\n",
            "\n",
            "   1 Display stock\n",
            "   2 Bike for rent\n",
            "   3 Exit\n",
            "   2\n",
            "Enter the quentity101\n",
            "Enter the value(less than stock)\n",
            "\n",
            "   1 Display stock\n",
            "   2 Bike for rent\n",
            "   3 Exit\n",
            "   -1\n",
            "Enter the correct option\n",
            "\n",
            "   1 Display stock\n",
            "   2 Bike for rent\n",
            "   3 Exit\n",
            "   2\n",
            "Enter the quentity100\n",
            "Enter the value(less than stock)\n",
            "\n",
            "   1 Display stock\n",
            "   2 Bike for rent\n",
            "   3 Exit\n",
            "   3\n"
          ]
        }
      ]
    }
  ]
}